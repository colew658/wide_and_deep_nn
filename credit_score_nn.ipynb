{
 "cells": [
  {
   "cell_type": "markdown",
   "id": "5e298ecb",
   "metadata": {},
   "source": [
    "# Wide and Deep Networks for Credit Score Classification\n",
    "\n",
    "By: Joe, Sellett, Haiyan Cai, and Cole Wagner"
   ]
  },
  {
   "cell_type": "code",
   "execution_count": 26,
   "id": "78dc8878",
   "metadata": {},
   "outputs": [],
   "source": [
    "import numpy as np\n",
    "import pandas as pd\n",
    "import tensorflow as tf\n",
    "from tensorflow import keras\n",
    "from tensorflow.keras.utils import FeatureSpace\n"
   ]
  },
  {
   "cell_type": "code",
   "execution_count": 17,
   "id": "88cc846b",
   "metadata": {},
   "outputs": [],
   "source": [
    "credit_df = pd.read_csv(\"credit_score_cleaned.csv\")"
   ]
  },
  {
   "cell_type": "markdown",
   "id": "0afcb7a1",
   "metadata": {},
   "source": [
    "## Data Preparation"
   ]
  },
  {
   "cell_type": "markdown",
   "id": "a4d72d85",
   "metadata": {},
   "source": [
    "### Drop Unnecessary Columns"
   ]
  },
  {
   "cell_type": "code",
   "execution_count": 18,
   "id": "d3ca9262",
   "metadata": {},
   "outputs": [],
   "source": [
    "credit_df = credit_df.drop(\n",
    "    columns=[\"customer_id\", \"name\", \"ssn\", \"type_of_loan\"]\n",
    ")"
   ]
  },
  {
   "cell_type": "markdown",
   "id": "ec0e7d43",
   "metadata": {},
   "source": [
    "### Preprocess Remaining Columns"
   ]
  },
  {
   "cell_type": "code",
   "execution_count": 23,
   "id": "e9f7d5cc",
   "metadata": {},
   "outputs": [],
   "source": [
    "def create_dataset_from_dataframe(\n",
    "    df_input: pd.DataFrame, batch_size: int\n",
    ") -> tf.data.Dataset:\n",
    "    \"\"\"Convert a pandas dataframe to a TensorFlow Dataset.\n",
    "\n",
    "    Parameters\n",
    "    ----------\n",
    "    df_input : pd.DataFrame\n",
    "        The input pandas dataframe containing the data.\n",
    "    batch_size : int\n",
    "        The number of rows per batch in the TensorFlow Dataset.\n",
    "\n",
    "    Returns\n",
    "    -------\n",
    "    tf.data.Dataset\n",
    "        A TensorFlow Dataset object created from the input dataframe.\n",
    "\n",
    "    \"\"\"\n",
    "    pd_df = df_input.copy()\n",
    "    labels = pd_df[\"credit_score\"]\n",
    "    pd_df = pd_df.drop(columns=[\"credit_score\"])\n",
    "\n",
    "    df_dict = {\n",
    "        key: value.to_numpy()[:, np.newaxis]\n",
    "        for key, value in df_input.items()\n",
    "    }\n",
    "\n",
    "    tf_ds = tf.data.Dataset.from_tensor_slices((dict(df_dict), labels))\n",
    "    tf_ds = tf_ds.batch(batch_size)\n",
    "    return tf_ds.prefetch(batch_size)\n"
   ]
  },
  {
   "cell_type": "code",
   "execution_count": null,
   "id": "263b4b46",
   "metadata": {},
   "outputs": [],
   "source": [
    "# Sample schema based on the dataframe info\n",
    "categorical_features = [\n",
    "    \"month\",\n",
    "    \"occupation\",\n",
    "    \"credit_mix\",\n",
    "    \"payment_of_min_amount\",\n",
    "    \"payment_behaviour\",\n",
    "]\n",
    "numeric_features = [\n",
    "    \"age\",\n",
    "    \"annual_income\",\n",
    "    \"monthly_inhand_salary\",\n",
    "    \"credit_history_age\",\n",
    "    \"total_emi_per_month\",\n",
    "    \"num_bank_accounts\",\n",
    "    \"num_credit_card\",\n",
    "    \"interest_rate\",\n",
    "    \"num_of_loan\",\n",
    "    \"delay_from_due_date\",\n",
    "    \"num_of_delayed_payment\",\n",
    "    \"changed_credit_limit\",\n",
    "    \"num_credit_inquiries\",\n",
    "    \"outstanding_debt\",\n",
    "    \"credit_utilization_ratio\",\n",
    "    \"amount_invested_monthly\",\n",
    "    \"monthly_balance\",\n",
    "]\n",
    "\n",
    "# Define feature configs\n",
    "feature_space = FeatureSpace(\n",
    "    features={\n",
    "        **{\n",
    "            name: FeatureSpace.string_categorical(num_oov_indices=0)\n",
    "            for name in categorical_features\n",
    "        },\n",
    "        **{\n",
    "            name: FeatureSpace.float_normalized()\n",
    "            for name in numeric_features\n",
    "        },\n",
    "    },\n",
    "    crosses=[\n",
    "        (\"occupation\", \"credit_mix\"),\n",
    "        (\"payment_of_min_amount\", \"payment_behaviour\"),\n",
    "    ],\n",
    "    output_mode=\"concat\",\n",
    ")"
   ]
  }
 ],
 "metadata": {
  "kernelspec": {
   "display_name": "3.12.5",
   "language": "python",
   "name": "python3"
  },
  "language_info": {
   "codemirror_mode": {
    "name": "ipython",
    "version": 3
   },
   "file_extension": ".py",
   "mimetype": "text/x-python",
   "name": "python",
   "nbconvert_exporter": "python",
   "pygments_lexer": "ipython3",
   "version": "3.12.5"
  }
 },
 "nbformat": 4,
 "nbformat_minor": 5
}
